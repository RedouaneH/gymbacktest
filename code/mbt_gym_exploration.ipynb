{
 "cells": [
  {
   "cell_type": "code",
   "execution_count": 1,
   "metadata": {},
   "outputs": [],
   "source": [
    "\n",
    "\n",
    "import sys\n",
    "sys.path.append(\"../mbt_gym/\")\n",
    "\n",
    "import matplotlib.pyplot as plt\n",
    "import numpy as np\n",
    "import random\n",
    "from mbt_gym.gym.TradingEnvironment import TradingEnvironment\n",
    "from mbt_gym.agents.BaselineAgents import RandomAgent, FixedSpreadAgent, AvellanedaStoikovAgent, CarteaJaimungalMmAgent\n",
    "from mbt_gym.gym.helpers.plotting import generate_trajectory, generate_results_table_and_hist, plot_trajectory\n",
    "from mbt_gym.stochastic_processes.midprice_models import BrownianMotionMidpriceModel\n",
    "from mbt_gym.stochastic_processes.arrival_models import PoissonArrivalModel\n",
    "from mbt_gym.stochastic_processes.fill_probability_models import ExponentialFillFunction\n",
    "from mbt_gym.gym.ModelDynamics import LimitOrderModelDynamics\n",
    "from mbt_gym.agents.PolicyGradientAgent import PolicyGradientAgent\n",
    "from mbt_gym.stochastic_processes.midprice_models import HistoricalMidpriceModel\n",
    "from mbt_gym.stochastic_processes.midprice_models import ConstantMidpriceModel\n",
    "\n",
    "\n"
   ]
  },
  {
   "cell_type": "markdown",
   "metadata": {},
   "source": [
    "\n",
    "The `mbt-gym` `TradingEnvironment` contains three main models (for market making):\n",
    "\n",
    "- **arrival_model**: Simulates the arrival of a market order. (Poisson, Hawkes)\n",
    "- **fill_probability_model**: Simulates the fact that the further we are from the midprice, the lower the probability of being executed. (Exponential, Triangular, Power)\n",
    "- **midprice_model**: A random process that simulates the evolution of the price. (Constant, Brownian...)\n",
    "\n",
    "At each time step, the agent chooses a `bid_spread` and `ask_spread` in $[0, \\text{max\\_depth}]$, it can also choose to make a market order in models that allow it, then place a buy order at the price `midprice - bid_spread` and a sell order at the price `midprice + ask_spread`. The orders are executed with the probability `fill_probability * arrival_probability` for the bid and ask orders, respectively.\n",
    "\n",
    "#### Improvements:\n",
    "\n",
    "- Using a multidimensional Hawkes process to simulate the arrival at each price.\n",
    "- Implement a queuing process.\n",
    "- Add a latency model/fee model.\n",
    "- Add a dynamic order quantity.\n",
    "\n"
   ]
  },
  {
   "cell_type": "code",
   "execution_count": 2,
   "metadata": {},
   "outputs": [
    {
     "ename": "ValueError",
     "evalue": "setting an array element with a sequence. The requested array would exceed the maximum number of dimension of 2.",
     "output_type": "error",
     "traceback": [
      "\u001b[1;31m---------------------------------------------------------------------------\u001b[0m",
      "\u001b[1;31mValueError\u001b[0m                                Traceback (most recent call last)",
      "Cell \u001b[1;32mIn[2], line 19\u001b[0m\n\u001b[0;32m     17\u001b[0m env \u001b[38;5;241m=\u001b[39m TradingEnvironment(terminal_time\u001b[38;5;241m=\u001b[39mterminal_time, n_steps\u001b[38;5;241m=\u001b[39mn_steps, seed\u001b[38;5;241m=\u001b[39mseed, model_dynamics\u001b[38;5;241m=\u001b[39mmodel_dynamics)\n\u001b[0;32m     18\u001b[0m agent \u001b[38;5;241m=\u001b[39m RandomAgent(env)\n\u001b[1;32m---> 19\u001b[0m plot_trajectory(env, agent, seed \u001b[38;5;241m=\u001b[39m seed)\n",
      "File \u001b[1;32mc:\\Users\\redou\\Documents\\EPFL\\stage\\code\\../mbt_gym\\mbt_gym\\gym\\helpers\\plotting.py:17\u001b[0m, in \u001b[0;36mplot_trajectory\u001b[1;34m(env, agent, seed)\u001b[0m\n\u001b[0;32m     14\u001b[0m \u001b[38;5;28;01mdef\u001b[39;00m \u001b[38;5;21mplot_trajectory\u001b[39m(env: gym\u001b[38;5;241m.\u001b[39mEnv, agent: Agent, seed: \u001b[38;5;28mint\u001b[39m \u001b[38;5;241m=\u001b[39m \u001b[38;5;28;01mNone\u001b[39;00m):\n\u001b[0;32m     15\u001b[0m     \u001b[38;5;66;03m# assert env.num_trajectories == 1, \"Plotting a trajectory can only be done when env.num_trajectories == 1.\"\u001b[39;00m\n\u001b[0;32m     16\u001b[0m     timestamps \u001b[38;5;241m=\u001b[39m get_timestamps(env)\n\u001b[1;32m---> 17\u001b[0m     observations, actions, rewards \u001b[38;5;241m=\u001b[39m generate_trajectory(env, agent, seed)\n\u001b[0;32m     18\u001b[0m     action_dim \u001b[38;5;241m=\u001b[39m actions\u001b[38;5;241m.\u001b[39mshape[\u001b[38;5;241m1\u001b[39m]\n\u001b[0;32m     19\u001b[0m     colors \u001b[38;5;241m=\u001b[39m [\u001b[38;5;124m\"\u001b[39m\u001b[38;5;124mr\u001b[39m\u001b[38;5;124m\"\u001b[39m, \u001b[38;5;124m\"\u001b[39m\u001b[38;5;124mk\u001b[39m\u001b[38;5;124m\"\u001b[39m, \u001b[38;5;124m\"\u001b[39m\u001b[38;5;124mb\u001b[39m\u001b[38;5;124m\"\u001b[39m, \u001b[38;5;124m\"\u001b[39m\u001b[38;5;124mg\u001b[39m\u001b[38;5;124m\"\u001b[39m]\n",
      "File \u001b[1;32mc:\\Users\\redou\\Documents\\EPFL\\stage\\code\\../mbt_gym\\mbt_gym\\gym\\helpers\\generate_trajectory.py:19\u001b[0m, in \u001b[0;36mgenerate_trajectory\u001b[1;34m(env, agent, seed, include_log_probs)\u001b[0m\n\u001b[0;32m     17\u001b[0m     log_probs \u001b[38;5;241m=\u001b[39m torch\u001b[38;5;241m.\u001b[39mzeros((env\u001b[38;5;241m.\u001b[39mnum_trajectories, env\u001b[38;5;241m.\u001b[39maction_space\u001b[38;5;241m.\u001b[39mshape[\u001b[38;5;241m0\u001b[39m], env\u001b[38;5;241m.\u001b[39mn_steps))\n\u001b[0;32m     18\u001b[0m obs \u001b[38;5;241m=\u001b[39m env\u001b[38;5;241m.\u001b[39mreset()\n\u001b[1;32m---> 19\u001b[0m observations[:, :, \u001b[38;5;241m0\u001b[39m] \u001b[38;5;241m=\u001b[39m obs\n\u001b[0;32m     20\u001b[0m count \u001b[38;5;241m=\u001b[39m \u001b[38;5;241m0\u001b[39m\n\u001b[0;32m     21\u001b[0m \u001b[38;5;28;01mwhile\u001b[39;00m \u001b[38;5;28;01mTrue\u001b[39;00m:\n",
      "\u001b[1;31mValueError\u001b[0m: setting an array element with a sequence. The requested array would exceed the maximum number of dimension of 2."
     ]
    }
   ],
   "source": [
    "terminal_time = 1.0\n",
    "n_steps = 200\n",
    "seed = 42\n",
    "np.random.seed(seed)\n",
    "\n",
    "step_size = 0.001\n",
    "intensity = np.array([140, 140])\n",
    "\n",
    "fill_exponent = 1.5\n",
    "\n",
    "arrival_model = PoissonArrivalModel(intensity=intensity, step_size=step_size, seed=seed)\n",
    "fill_probability_model = ExponentialFillFunction(fill_exponent, step_size=step_size, seed=seed)\n",
    "midprice_model = BrownianMotionMidpriceModel(step_size=step_size, seed=seed)\n",
    "\n",
    "model_dynamics = LimitOrderModelDynamics(midprice_model=midprice_model, arrival_model=arrival_model, fill_probability_model=fill_probability_model)\n",
    "\n",
    "env = TradingEnvironment(terminal_time=terminal_time, n_steps=n_steps, seed=seed, model_dynamics=model_dynamics)\n",
    "agent = RandomAgent(env)\n",
    "plot_trajectory(env, agent, seed = seed)\n"
   ]
  },
  {
   "cell_type": "markdown",
   "metadata": {},
   "source": [
    "In order to do backtesting on real data, I have implemented new classes that are useful to work with the `hftbacktest` library:\n",
    "\n",
    "- **`class HistoricalMidpriceModel(StochasticProcessModel)`**: A midprice model that uses historical data.\n",
    "- **`class BackTestingLimitOrderModelDynamics(ModelDynamics)`** and **`class BackTestingTradingEnvironment(TradingEnvironment)`**: These classes allow backtesting of the `LimitOrderModelDynamics` class (which does not allow market orders) by taking feedback from the `hftbacktest` simulation (specifically the information indicating whether the order has been executed).\n",
    "\n",
    "To backtest our models, we could perform parameter estimation on training data (from real market data) and test the effectiveness of the agent's strategy on test data.\n"
   ]
  },
  {
   "cell_type": "markdown",
   "metadata": {},
   "source": [
    "## Historical midprice model"
   ]
  },
  {
   "cell_type": "code",
   "execution_count": null,
   "metadata": {},
   "outputs": [
    {
     "ename": "ValueError",
     "evalue": "setting an array element with a sequence. The requested array would exceed the maximum number of dimension of 2.",
     "output_type": "error",
     "traceback": [
      "\u001b[1;31m---------------------------------------------------------------------------\u001b[0m",
      "\u001b[1;31mValueError\u001b[0m                                Traceback (most recent call last)",
      "Cell \u001b[1;32mIn[3], line 29\u001b[0m\n\u001b[0;32m     26\u001b[0m env \u001b[38;5;241m=\u001b[39m TradingEnvironment(terminal_time\u001b[38;5;241m=\u001b[39mterminal_time, n_steps\u001b[38;5;241m=\u001b[39mn_steps, seed\u001b[38;5;241m=\u001b[39mseed, model_dynamics\u001b[38;5;241m=\u001b[39mmodel_dynamics)\n\u001b[0;32m     27\u001b[0m agent \u001b[38;5;241m=\u001b[39m RandomAgent(env)\n\u001b[1;32m---> 29\u001b[0m plot_trajectory(env, agent, seed \u001b[38;5;241m=\u001b[39m seed)\n",
      "File \u001b[1;32mc:\\Users\\redou\\Documents\\EPFL\\stage\\code\\../mbt_gym\\mbt_gym\\gym\\helpers\\plotting.py:17\u001b[0m, in \u001b[0;36mplot_trajectory\u001b[1;34m(env, agent, seed)\u001b[0m\n\u001b[0;32m     14\u001b[0m \u001b[38;5;28;01mdef\u001b[39;00m \u001b[38;5;21mplot_trajectory\u001b[39m(env: gym\u001b[38;5;241m.\u001b[39mEnv, agent: Agent, seed: \u001b[38;5;28mint\u001b[39m \u001b[38;5;241m=\u001b[39m \u001b[38;5;28;01mNone\u001b[39;00m):\n\u001b[0;32m     15\u001b[0m     \u001b[38;5;66;03m# assert env.num_trajectories == 1, \"Plotting a trajectory can only be done when env.num_trajectories == 1.\"\u001b[39;00m\n\u001b[0;32m     16\u001b[0m     timestamps \u001b[38;5;241m=\u001b[39m get_timestamps(env)\n\u001b[1;32m---> 17\u001b[0m     observations, actions, rewards \u001b[38;5;241m=\u001b[39m generate_trajectory(env, agent, seed)\n\u001b[0;32m     18\u001b[0m     action_dim \u001b[38;5;241m=\u001b[39m actions\u001b[38;5;241m.\u001b[39mshape[\u001b[38;5;241m1\u001b[39m]\n\u001b[0;32m     19\u001b[0m     colors \u001b[38;5;241m=\u001b[39m [\u001b[38;5;124m\"\u001b[39m\u001b[38;5;124mr\u001b[39m\u001b[38;5;124m\"\u001b[39m, \u001b[38;5;124m\"\u001b[39m\u001b[38;5;124mk\u001b[39m\u001b[38;5;124m\"\u001b[39m, \u001b[38;5;124m\"\u001b[39m\u001b[38;5;124mb\u001b[39m\u001b[38;5;124m\"\u001b[39m, \u001b[38;5;124m\"\u001b[39m\u001b[38;5;124mg\u001b[39m\u001b[38;5;124m\"\u001b[39m]\n",
      "File \u001b[1;32mc:\\Users\\redou\\Documents\\EPFL\\stage\\code\\../mbt_gym\\mbt_gym\\gym\\helpers\\generate_trajectory.py:19\u001b[0m, in \u001b[0;36mgenerate_trajectory\u001b[1;34m(env, agent, seed, include_log_probs)\u001b[0m\n\u001b[0;32m     17\u001b[0m     log_probs \u001b[38;5;241m=\u001b[39m torch\u001b[38;5;241m.\u001b[39mzeros((env\u001b[38;5;241m.\u001b[39mnum_trajectories, env\u001b[38;5;241m.\u001b[39maction_space\u001b[38;5;241m.\u001b[39mshape[\u001b[38;5;241m0\u001b[39m], env\u001b[38;5;241m.\u001b[39mn_steps))\n\u001b[0;32m     18\u001b[0m obs \u001b[38;5;241m=\u001b[39m env\u001b[38;5;241m.\u001b[39mreset()\n\u001b[1;32m---> 19\u001b[0m observations[:, :, \u001b[38;5;241m0\u001b[39m] \u001b[38;5;241m=\u001b[39m obs\n\u001b[0;32m     20\u001b[0m count \u001b[38;5;241m=\u001b[39m \u001b[38;5;241m0\u001b[39m\n\u001b[0;32m     21\u001b[0m \u001b[38;5;28;01mwhile\u001b[39;00m \u001b[38;5;28;01mTrue\u001b[39;00m:\n",
      "\u001b[1;31mValueError\u001b[0m: setting an array element with a sequence. The requested array would exceed the maximum number of dimension of 2."
     ]
    }
   ],
   "source": [
    "\n",
    "def generate_random_prices(n, midprice, volatility=0.01):\n",
    "    prices = [midprice]\n",
    "    for _ in range(n - 1):\n",
    "        change = midprice * random.uniform(-volatility, volatility)\n",
    "        new_price = prices[-1] + change\n",
    "        prices.append(new_price)\n",
    "    return prices\n",
    "\n",
    "n_prices = int(terminal_time/step_size)\n",
    "random_prices = generate_random_prices(n_prices, midprice=100.0, volatility=0.01)\n",
    "\n",
    "terminal_time = 1.0\n",
    "n_steps = 200\n",
    "seed = 42\n",
    "step_size = 0.001\n",
    "np.random.seed(seed)\n",
    "\n",
    "intensity = np.array([140, 140])\n",
    "fill_exponent = 1.5\n",
    "\n",
    "arrival_model = PoissonArrivalModel(intensity=intensity, step_size=step_size, seed=seed)\n",
    "fill_probability_model = ExponentialFillFunction(fill_exponent, step_size=step_size, seed=seed)\n",
    "midprice_model = HistoricalMidpriceModel(midprice_list=random_prices, step_size=step_size, seed=seed)\n",
    "model_dynamics = LimitOrderModelDynamics(midprice_model=midprice_model, arrival_model=arrival_model, fill_probability_model=fill_probability_model)\n",
    "\n",
    "env = TradingEnvironment(terminal_time=terminal_time, n_steps=n_steps, seed=seed, model_dynamics=model_dynamics)\n",
    "agent = RandomAgent(env)\n",
    "\n",
    "plot_trajectory(env, agent, seed = seed)"
   ]
  }
 ],
 "metadata": {
  "kernelspec": {
   "display_name": "base",
   "language": "python",
   "name": "python3"
  },
  "language_info": {
   "codemirror_mode": {
    "name": "ipython",
    "version": 3
   },
   "file_extension": ".py",
   "mimetype": "text/x-python",
   "name": "python",
   "nbconvert_exporter": "python",
   "pygments_lexer": "ipython3",
   "version": "3.12.7"
  }
 },
 "nbformat": 4,
 "nbformat_minor": 2
}
